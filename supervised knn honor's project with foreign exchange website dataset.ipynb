{
 "cells": [
  {
   "cell_type": "code",
   "execution_count": 1,
   "id": "e1af2089",
   "metadata": {},
   "outputs": [],
   "source": [
    "import numpy as np\n",
    "import pandas as pd\n",
    "import os\n",
    "import matplotlib.pyplot as plt\n",
    "import seaborn as sns\n",
    "from sklearn.preprocessing import OrdinalEncoder\n"
   ]
  },
  {
   "cell_type": "code",
   "execution_count": 9,
   "id": "28c1ca29",
   "metadata": {},
   "outputs": [],
   "source": [
    "!python honorsproject2.py"
   ]
  },
  {
   "cell_type": "code",
   "execution_count": 2,
   "id": "2b9519b2",
   "metadata": {},
   "outputs": [],
   "source": [
    "import glob\n",
    "all_files = glob.glob(\"Storing_csv_files_2\" + \"/*.csv\")\n",
    "frame = []\n",
    "for filename in all_files:\n",
    "    df = pd.read_csv(filename)\n",
    "    frame.append(df)\n",
    "original_df = pd.concat(frame)"
   ]
  },
  {
   "cell_type": "code",
   "execution_count": 3,
   "id": "39c4be18",
   "metadata": {},
   "outputs": [
    {
     "data": {
      "text/plain": [
       "20"
      ]
     },
     "execution_count": 3,
     "metadata": {},
     "output_type": "execute_result"
    }
   ],
   "source": [
    "len(df)"
   ]
  },
  {
   "cell_type": "code",
   "execution_count": 4,
   "id": "2b808fa7",
   "metadata": {
    "scrolled": true
   },
   "outputs": [
    {
     "data": {
      "text/html": [
       "<div>\n",
       "<style scoped>\n",
       "    .dataframe tbody tr th:only-of-type {\n",
       "        vertical-align: middle;\n",
       "    }\n",
       "\n",
       "    .dataframe tbody tr th {\n",
       "        vertical-align: top;\n",
       "    }\n",
       "\n",
       "    .dataframe thead th {\n",
       "        text-align: right;\n",
       "    }\n",
       "</style>\n",
       "<table border=\"1\" class=\"dataframe\">\n",
       "  <thead>\n",
       "    <tr style=\"text-align: right;\">\n",
       "      <th></th>\n",
       "      <th>Unnamed: 0</th>\n",
       "      <th>Summary</th>\n",
       "      <th>Issue id</th>\n",
       "      <th>Status</th>\n",
       "      <th>Assignee</th>\n",
       "      <th>Updated</th>\n",
       "      <th>Last Viewed</th>\n",
       "      <th>Original estimate</th>\n",
       "      <th>Time Spent</th>\n",
       "      <th>Custom field (Start date)</th>\n",
       "      <th>...</th>\n",
       "      <th>Random_Assignee</th>\n",
       "      <th>percent_random</th>\n",
       "      <th>percent_sign</th>\n",
       "      <th>percentage</th>\n",
       "      <th>Due date</th>\n",
       "      <th>Label</th>\n",
       "      <th>percent_random_time_spent</th>\n",
       "      <th>percent_sign_time_spent</th>\n",
       "      <th>percentage_time_spent</th>\n",
       "      <th>Random_time_spent</th>\n",
       "    </tr>\n",
       "  </thead>\n",
       "  <tbody>\n",
       "    <tr>\n",
       "      <th>0</th>\n",
       "      <td>0</td>\n",
       "      <td>Problem statement</td>\n",
       "      <td>10018</td>\n",
       "      <td>Done</td>\n",
       "      <td>Alexey</td>\n",
       "      <td>3/7/2022 13:12</td>\n",
       "      <td>3/7/2022 13:14</td>\n",
       "      <td>12</td>\n",
       "      <td>13.226596</td>\n",
       "      <td>2021-11-01</td>\n",
       "      <td>...</td>\n",
       "      <td>Mushu</td>\n",
       "      <td>0.420958</td>\n",
       "      <td>2</td>\n",
       "      <td>0.841916</td>\n",
       "      <td>2022-01-17</td>\n",
       "      <td>0</td>\n",
       "      <td>0.602216</td>\n",
       "      <td>2</td>\n",
       "      <td>1.204433</td>\n",
       "      <td>13.226596</td>\n",
       "    </tr>\n",
       "    <tr>\n",
       "      <th>1</th>\n",
       "      <td>1</td>\n",
       "      <td>Project Proposal</td>\n",
       "      <td>10019</td>\n",
       "      <td>Done</td>\n",
       "      <td>Angie</td>\n",
       "      <td>NaN</td>\n",
       "      <td>NaN</td>\n",
       "      <td>24</td>\n",
       "      <td>8.882222</td>\n",
       "      <td>2021-11-28</td>\n",
       "      <td>...</td>\n",
       "      <td>Xiao Qing</td>\n",
       "      <td>1.631317</td>\n",
       "      <td>2</td>\n",
       "      <td>3.262634</td>\n",
       "      <td>2022-02-26</td>\n",
       "      <td>0</td>\n",
       "      <td>0.610278</td>\n",
       "      <td>2</td>\n",
       "      <td>1.220555</td>\n",
       "      <td>8.882222</td>\n",
       "    </tr>\n",
       "    <tr>\n",
       "      <th>2</th>\n",
       "      <td>2</td>\n",
       "      <td>Assign project tasks to the team</td>\n",
       "      <td>10020</td>\n",
       "      <td>Done</td>\n",
       "      <td>Manoj</td>\n",
       "      <td>3/7/2022 13:13</td>\n",
       "      <td>3/7/2022 13:14</td>\n",
       "      <td>2</td>\n",
       "      <td>2.664339</td>\n",
       "      <td>2021-11-30</td>\n",
       "      <td>...</td>\n",
       "      <td>Frankie</td>\n",
       "      <td>0.521741</td>\n",
       "      <td>2</td>\n",
       "      <td>1.043482</td>\n",
       "      <td>2022-02-27</td>\n",
       "      <td>0</td>\n",
       "      <td>0.832170</td>\n",
       "      <td>2</td>\n",
       "      <td>1.664339</td>\n",
       "      <td>2.664339</td>\n",
       "    </tr>\n",
       "    <tr>\n",
       "      <th>3</th>\n",
       "      <td>3</td>\n",
       "      <td>Discuss budgeting</td>\n",
       "      <td>10021</td>\n",
       "      <td>Done</td>\n",
       "      <td>Violet</td>\n",
       "      <td>3/7/2022 13:04</td>\n",
       "      <td>3/7/2022 13:14</td>\n",
       "      <td>4</td>\n",
       "      <td>0.000000</td>\n",
       "      <td>2021-12-01</td>\n",
       "      <td>...</td>\n",
       "      <td>Alexey</td>\n",
       "      <td>1.072196</td>\n",
       "      <td>2</td>\n",
       "      <td>2.144393</td>\n",
       "      <td>2022-04-01</td>\n",
       "      <td>0</td>\n",
       "      <td>0.272547</td>\n",
       "      <td>2</td>\n",
       "      <td>0.545095</td>\n",
       "      <td>0.000000</td>\n",
       "    </tr>\n",
       "    <tr>\n",
       "      <th>4</th>\n",
       "      <td>4</td>\n",
       "      <td>Software Requirements Document</td>\n",
       "      <td>10022</td>\n",
       "      <td>Done</td>\n",
       "      <td>Latifah</td>\n",
       "      <td>3/7/2022 13:04</td>\n",
       "      <td>3/7/2022 13:14</td>\n",
       "      <td>48</td>\n",
       "      <td>14.929181</td>\n",
       "      <td>2021-12-02</td>\n",
       "      <td>...</td>\n",
       "      <td>Angie</td>\n",
       "      <td>0.441640</td>\n",
       "      <td>2</td>\n",
       "      <td>0.883280</td>\n",
       "      <td>2022-02-24</td>\n",
       "      <td>1</td>\n",
       "      <td>0.188975</td>\n",
       "      <td>-2</td>\n",
       "      <td>-0.377951</td>\n",
       "      <td>14.929181</td>\n",
       "    </tr>\n",
       "    <tr>\n",
       "      <th>...</th>\n",
       "      <td>...</td>\n",
       "      <td>...</td>\n",
       "      <td>...</td>\n",
       "      <td>...</td>\n",
       "      <td>...</td>\n",
       "      <td>...</td>\n",
       "      <td>...</td>\n",
       "      <td>...</td>\n",
       "      <td>...</td>\n",
       "      <td>...</td>\n",
       "      <td>...</td>\n",
       "      <td>...</td>\n",
       "      <td>...</td>\n",
       "      <td>...</td>\n",
       "      <td>...</td>\n",
       "      <td>...</td>\n",
       "      <td>...</td>\n",
       "      <td>...</td>\n",
       "      <td>...</td>\n",
       "      <td>...</td>\n",
       "      <td>...</td>\n",
       "    </tr>\n",
       "    <tr>\n",
       "      <th>15</th>\n",
       "      <td>15</td>\n",
       "      <td>View Foreign Exchange account</td>\n",
       "      <td>10033</td>\n",
       "      <td>Done</td>\n",
       "      <td>Mulan</td>\n",
       "      <td>3/7/2022 13:07</td>\n",
       "      <td>3/7/2022 13:14</td>\n",
       "      <td>36</td>\n",
       "      <td>-46.946162</td>\n",
       "      <td>2022-03-13</td>\n",
       "      <td>...</td>\n",
       "      <td>Violet</td>\n",
       "      <td>1.026610</td>\n",
       "      <td>2</td>\n",
       "      <td>2.053221</td>\n",
       "      <td>2022-05-25</td>\n",
       "      <td>0</td>\n",
       "      <td>1.456090</td>\n",
       "      <td>2</td>\n",
       "      <td>2.912180</td>\n",
       "      <td>-46.946162</td>\n",
       "    </tr>\n",
       "    <tr>\n",
       "      <th>16</th>\n",
       "      <td>16</td>\n",
       "      <td>Exchange currency tab</td>\n",
       "      <td>10034</td>\n",
       "      <td>Done</td>\n",
       "      <td>Mushu</td>\n",
       "      <td>3/7/2022 12:58</td>\n",
       "      <td>3/7/2022 13:14</td>\n",
       "      <td>48</td>\n",
       "      <td>39.858745</td>\n",
       "      <td>2022-04-04</td>\n",
       "      <td>...</td>\n",
       "      <td>Mushu</td>\n",
       "      <td>0.065802</td>\n",
       "      <td>-2</td>\n",
       "      <td>-0.131603</td>\n",
       "      <td>2022-04-19</td>\n",
       "      <td>0</td>\n",
       "      <td>1.492937</td>\n",
       "      <td>2</td>\n",
       "      <td>2.985875</td>\n",
       "      <td>39.858745</td>\n",
       "    </tr>\n",
       "    <tr>\n",
       "      <th>17</th>\n",
       "      <td>17</td>\n",
       "      <td>User testing</td>\n",
       "      <td>10035</td>\n",
       "      <td>Done</td>\n",
       "      <td>Shang</td>\n",
       "      <td>3/7/2022 12:56</td>\n",
       "      <td>3/7/2022 13:14</td>\n",
       "      <td>8</td>\n",
       "      <td>-3.028330</td>\n",
       "      <td>2022-04-15</td>\n",
       "      <td>...</td>\n",
       "      <td>DJ</td>\n",
       "      <td>0.111901</td>\n",
       "      <td>-2</td>\n",
       "      <td>-0.223802</td>\n",
       "      <td>2022-05-12</td>\n",
       "      <td>0</td>\n",
       "      <td>1.014165</td>\n",
       "      <td>2</td>\n",
       "      <td>2.028330</td>\n",
       "      <td>-3.028330</td>\n",
       "    </tr>\n",
       "    <tr>\n",
       "      <th>18</th>\n",
       "      <td>18</td>\n",
       "      <td>Vendors testing the software for any bugs</td>\n",
       "      <td>10036</td>\n",
       "      <td>Done</td>\n",
       "      <td>Jisoo</td>\n",
       "      <td>3/7/2022 12:56</td>\n",
       "      <td>3/7/2022 13:14</td>\n",
       "      <td>24</td>\n",
       "      <td>23.172915</td>\n",
       "      <td>2022-04-26</td>\n",
       "      <td>...</td>\n",
       "      <td>Frankie</td>\n",
       "      <td>0.868540</td>\n",
       "      <td>2</td>\n",
       "      <td>1.737081</td>\n",
       "      <td>2022-07-03</td>\n",
       "      <td>0</td>\n",
       "      <td>0.658646</td>\n",
       "      <td>2</td>\n",
       "      <td>1.317292</td>\n",
       "      <td>23.172915</td>\n",
       "    </tr>\n",
       "    <tr>\n",
       "      <th>19</th>\n",
       "      <td>19</td>\n",
       "      <td>Releasing 2.0</td>\n",
       "      <td>10037</td>\n",
       "      <td>Done</td>\n",
       "      <td>Frankie</td>\n",
       "      <td>3/7/2022 13:06</td>\n",
       "      <td>3/7/2022 13:14</td>\n",
       "      <td>9</td>\n",
       "      <td>10.910075</td>\n",
       "      <td>2022-05-24</td>\n",
       "      <td>...</td>\n",
       "      <td>Mushu</td>\n",
       "      <td>1.766403</td>\n",
       "      <td>2</td>\n",
       "      <td>3.532806</td>\n",
       "      <td>2022-09-23</td>\n",
       "      <td>0</td>\n",
       "      <td>0.591007</td>\n",
       "      <td>2</td>\n",
       "      <td>1.182015</td>\n",
       "      <td>10.910075</td>\n",
       "    </tr>\n",
       "  </tbody>\n",
       "</table>\n",
       "<p>20000 rows × 24 columns</p>\n",
       "</div>"
      ],
      "text/plain": [
       "    Unnamed: 0                                    Summary  Issue id Status  \\\n",
       "0            0                          Problem statement     10018   Done   \n",
       "1            1                           Project Proposal     10019   Done   \n",
       "2            2           Assign project tasks to the team     10020   Done   \n",
       "3            3                          Discuss budgeting     10021   Done   \n",
       "4            4             Software Requirements Document     10022   Done   \n",
       "..         ...                                        ...       ...    ...   \n",
       "15          15              View Foreign Exchange account     10033   Done   \n",
       "16          16                      Exchange currency tab     10034   Done   \n",
       "17          17                               User testing     10035   Done   \n",
       "18          18  Vendors testing the software for any bugs     10036   Done   \n",
       "19          19                              Releasing 2.0     10037   Done   \n",
       "\n",
       "   Assignee         Updated     Last Viewed  Original estimate  Time Spent  \\\n",
       "0    Alexey  3/7/2022 13:12  3/7/2022 13:14                 12   13.226596   \n",
       "1     Angie             NaN             NaN                 24    8.882222   \n",
       "2     Manoj  3/7/2022 13:13  3/7/2022 13:14                  2    2.664339   \n",
       "3    Violet  3/7/2022 13:04  3/7/2022 13:14                  4    0.000000   \n",
       "4   Latifah  3/7/2022 13:04  3/7/2022 13:14                 48   14.929181   \n",
       "..      ...             ...             ...                ...         ...   \n",
       "15    Mulan  3/7/2022 13:07  3/7/2022 13:14                 36  -46.946162   \n",
       "16    Mushu  3/7/2022 12:58  3/7/2022 13:14                 48   39.858745   \n",
       "17    Shang  3/7/2022 12:56  3/7/2022 13:14                  8   -3.028330   \n",
       "18    Jisoo  3/7/2022 12:56  3/7/2022 13:14                 24   23.172915   \n",
       "19  Frankie  3/7/2022 13:06  3/7/2022 13:14                  9   10.910075   \n",
       "\n",
       "   Custom field (Start date)  ...  Random_Assignee percent_random  \\\n",
       "0                 2021-11-01  ...            Mushu       0.420958   \n",
       "1                 2021-11-28  ...        Xiao Qing       1.631317   \n",
       "2                 2021-11-30  ...          Frankie       0.521741   \n",
       "3                 2021-12-01  ...           Alexey       1.072196   \n",
       "4                 2021-12-02  ...            Angie       0.441640   \n",
       "..                       ...  ...              ...            ...   \n",
       "15                2022-03-13  ...           Violet       1.026610   \n",
       "16                2022-04-04  ...            Mushu       0.065802   \n",
       "17                2022-04-15  ...               DJ       0.111901   \n",
       "18                2022-04-26  ...          Frankie       0.868540   \n",
       "19                2022-05-24  ...            Mushu       1.766403   \n",
       "\n",
       "    percent_sign  percentage    Due date  Label  percent_random_time_spent  \\\n",
       "0              2    0.841916  2022-01-17      0                   0.602216   \n",
       "1              2    3.262634  2022-02-26      0                   0.610278   \n",
       "2              2    1.043482  2022-02-27      0                   0.832170   \n",
       "3              2    2.144393  2022-04-01      0                   0.272547   \n",
       "4              2    0.883280  2022-02-24      1                   0.188975   \n",
       "..           ...         ...         ...    ...                        ...   \n",
       "15             2    2.053221  2022-05-25      0                   1.456090   \n",
       "16            -2   -0.131603  2022-04-19      0                   1.492937   \n",
       "17            -2   -0.223802  2022-05-12      0                   1.014165   \n",
       "18             2    1.737081  2022-07-03      0                   0.658646   \n",
       "19             2    3.532806  2022-09-23      0                   0.591007   \n",
       "\n",
       "    percent_sign_time_spent percentage_time_spent  Random_time_spent  \n",
       "0                         2              1.204433          13.226596  \n",
       "1                         2              1.220555           8.882222  \n",
       "2                         2              1.664339           2.664339  \n",
       "3                         2              0.545095           0.000000  \n",
       "4                        -2             -0.377951          14.929181  \n",
       "..                      ...                   ...                ...  \n",
       "15                        2              2.912180         -46.946162  \n",
       "16                        2              2.985875          39.858745  \n",
       "17                        2              2.028330          -3.028330  \n",
       "18                        2              1.317292          23.172915  \n",
       "19                        2              1.182015          10.910075  \n",
       "\n",
       "[20000 rows x 24 columns]"
      ]
     },
     "execution_count": 4,
     "metadata": {},
     "output_type": "execute_result"
    }
   ],
   "source": [
    "original_df"
   ]
  },
  {
   "cell_type": "code",
   "execution_count": 5,
   "id": "8ce5ee6b",
   "metadata": {},
   "outputs": [
    {
     "name": "stdout",
     "output_type": "stream",
     "text": [
      "   Status Random_Assignee\n",
      "0    Done           Mushu\n",
      "1    Done       Xiao Qing\n",
      "2    Done         Frankie\n",
      "3    Done          Alexey\n",
      "4    Done           Angie\n",
      "..    ...             ...\n",
      "15   Done          Violet\n",
      "16   Done           Mushu\n",
      "17   Done              DJ\n",
      "18   Done         Frankie\n",
      "19   Done           Mushu\n",
      "\n",
      "[20000 rows x 2 columns]\n",
      "[[ 0. 15.]\n",
      " [ 0. 18.]\n",
      " [ 0.  6.]\n",
      " ...\n",
      " [ 0.  4.]\n",
      " [ 0.  6.]\n",
      " [ 0. 15.]]\n"
     ]
    }
   ],
   "source": [
    "original_df['Status'].fillna('Done', inplace = True)\n",
    "transform_df = original_df[['Status','Random_Assignee']]\n",
    "print(transform_df)\n",
    "\n",
    "encoder = OrdinalEncoder()\n",
    "encoder.fit(transform_df)\n",
    "final_df = encoder.transform(transform_df)\n",
    "print(final_df)\n",
    "#final_df = pd.DataFrame(final_df, columns = ['Status', 'Label(Binary) Project with all tasks', 'Assignee' ])\n",
    "#final_df = pd.concat([final_df, original_df], axis = 1, ignore_indexing = True)\n",
    "#final_df"
   ]
  },
  {
   "cell_type": "code",
   "execution_count": 6,
   "id": "9ca43fc9",
   "metadata": {},
   "outputs": [
    {
     "data": {
      "text/plain": [
       "False"
      ]
     },
     "execution_count": 6,
     "metadata": {},
     "output_type": "execute_result"
    }
   ],
   "source": [
    "original_df['diff_dates'].isnull().any().any()"
   ]
  },
  {
   "cell_type": "code",
   "execution_count": 7,
   "id": "b1b1f287",
   "metadata": {},
   "outputs": [
    {
     "data": {
      "text/plain": [
       "0     -1.226596\n",
       "1     15.117778\n",
       "2     -0.664339\n",
       "3      4.000000\n",
       "4     33.070819\n",
       "        ...    \n",
       "15    82.946162\n",
       "16     8.141255\n",
       "17    11.028330\n",
       "18     0.827085\n",
       "19    -1.910075\n",
       "Name: diff_time_spent, Length: 20000, dtype: float64"
      ]
     },
     "execution_count": 7,
     "metadata": {},
     "output_type": "execute_result"
    }
   ],
   "source": [
    "original_df['diff_time_spent']"
   ]
  },
  {
   "cell_type": "code",
   "execution_count": 8,
   "id": "bad6a17d",
   "metadata": {},
   "outputs": [],
   "source": [
    "arr = original_df[['diff_dates','percent_random', 'Original estimate', 'diff_time_spent', 'Time Spent','Label']].to_numpy()\n"
   ]
  },
  {
   "cell_type": "code",
   "execution_count": 9,
   "id": "f9c5058b",
   "metadata": {},
   "outputs": [],
   "source": [
    "dataset = np.hstack((final_df,arr))"
   ]
  },
  {
   "cell_type": "code",
   "execution_count": 10,
   "id": "6472e70f",
   "metadata": {},
   "outputs": [
    {
     "data": {
      "text/plain": [
       "array([[ 0.        , 15.        , 27.        , ..., -1.22659592,\n",
       "        13.22659592,  0.        ],\n",
       "       [ 0.        , 18.        , 17.        , ..., 15.11777844,\n",
       "         8.88222156,  0.        ],\n",
       "       [ 0.        ,  6.        , 29.        , ..., -0.66433925,\n",
       "         2.66433925,  0.        ],\n",
       "       ...,\n",
       "       [ 0.        ,  4.        , 15.        , ..., 11.02832991,\n",
       "        -3.02832991,  0.        ],\n",
       "       [ 0.        ,  6.        , 18.        , ...,  0.82708486,\n",
       "        23.17291514,  0.        ],\n",
       "       [ 0.        , 15.        , 22.        , ..., -1.91007475,\n",
       "        10.91007475,  0.        ]])"
      ]
     },
     "execution_count": 10,
     "metadata": {},
     "output_type": "execute_result"
    }
   ],
   "source": [
    "dataset"
   ]
  },
  {
   "cell_type": "code",
   "execution_count": 11,
   "id": "16119c0e",
   "metadata": {},
   "outputs": [
    {
     "data": {
      "text/plain": [
       "(14000, 6)"
      ]
     },
     "execution_count": 11,
     "metadata": {},
     "output_type": "execute_result"
    }
   ],
   "source": [
    "from sklearn.model_selection import train_test_split\n",
    "X_train, X_test, y_train, y_test = train_test_split(dataset[:,0:6], dataset[:,-1], test_size=0.3, random_state=32)\n",
    "X_train.shape"
   ]
  },
  {
   "cell_type": "code",
   "execution_count": 12,
   "id": "39f2fb18",
   "metadata": {},
   "outputs": [],
   "source": [
    "dict = {'Name':['Train', 'Test'], 'count' : [len(X_train), len(X_test)]}"
   ]
  },
  {
   "cell_type": "code",
   "execution_count": 13,
   "id": "7a5e42d0",
   "metadata": {},
   "outputs": [
    {
     "data": {
      "text/plain": [
       "{'Name': ['Train', 'Test'], 'count': [14000, 6000]}"
      ]
     },
     "execution_count": 13,
     "metadata": {},
     "output_type": "execute_result"
    }
   ],
   "source": [
    "dict"
   ]
  },
  {
   "cell_type": "code",
   "execution_count": 14,
   "id": "c6aa9fb9",
   "metadata": {},
   "outputs": [],
   "source": [
    " countDF = pd.DataFrame(dict)"
   ]
  },
  {
   "cell_type": "code",
   "execution_count": 16,
   "id": "144dd017",
   "metadata": {},
   "outputs": [
    {
     "data": {
      "text/html": [
       "<div>\n",
       "<style scoped>\n",
       "    .dataframe tbody tr th:only-of-type {\n",
       "        vertical-align: middle;\n",
       "    }\n",
       "\n",
       "    .dataframe tbody tr th {\n",
       "        vertical-align: top;\n",
       "    }\n",
       "\n",
       "    .dataframe thead th {\n",
       "        text-align: right;\n",
       "    }\n",
       "</style>\n",
       "<table border=\"1\" class=\"dataframe\">\n",
       "  <thead>\n",
       "    <tr style=\"text-align: right;\">\n",
       "      <th></th>\n",
       "      <th>Name</th>\n",
       "      <th>count</th>\n",
       "    </tr>\n",
       "  </thead>\n",
       "  <tbody>\n",
       "    <tr>\n",
       "      <th>0</th>\n",
       "      <td>Train</td>\n",
       "      <td>14000</td>\n",
       "    </tr>\n",
       "    <tr>\n",
       "      <th>1</th>\n",
       "      <td>Test</td>\n",
       "      <td>6000</td>\n",
       "    </tr>\n",
       "  </tbody>\n",
       "</table>\n",
       "</div>"
      ],
      "text/plain": [
       "    Name  count\n",
       "0  Train  14000\n",
       "1   Test   6000"
      ]
     },
     "execution_count": 16,
     "metadata": {},
     "output_type": "execute_result"
    }
   ],
   "source": [
    "countDF"
   ]
  },
  {
   "cell_type": "code",
   "execution_count": 17,
   "id": "c78ecf87",
   "metadata": {},
   "outputs": [
    {
     "data": {
      "text/plain": [
       "([<matplotlib.patches.Wedge at 0x225b65523a0>,\n",
       "  <matplotlib.patches.Wedge at 0x225b5421ac0>],\n",
       " [Text(-0.6465637441936393, 0.8899187180267096, 'Train'),\n",
       "  Text(0.6465637441936392, -0.8899187180267097, 'Test')],\n",
       " [Text(-0.3526711331965305, 0.4854102098327506, '70.0%'),\n",
       "  Text(0.3526711331965304, -0.48541020983275074, '30.0%')])"
      ]
     },
     "execution_count": 17,
     "metadata": {},
     "output_type": "execute_result"
    },
    {
     "data": {
      "image/png": "[encoded data removed]",
      "text/plain": [
       "<Figure size 432x288 with 1 Axes>"
      ]
     },
     "metadata": {},
     "output_type": "display_data"
    }
   ],
   "source": [
    "plt.pie(countDF['count'], labels = countDF['Name'],autopct = '%.1f%%')"
   ]
  },
  {
   "cell_type": "code",
   "execution_count": 18,
   "id": "b1fda7af",
   "metadata": {},
   "outputs": [],
   "source": [
    "from sklearn.neighbors import KNeighborsClassifier\n",
    "neigh = KNeighborsClassifier(n_neighbors= 2 )\n",
    "neigh.fit(X_train, y_train)\n",
    "y_testing_prediction = neigh.predict(X_test)\n",
    "from sklearn.metrics import accuracy_score\n",
    "accuracy_score(y_test, y_testing_prediction)\n",
    "y_true=y_test"
   ]
  },
  {
   "cell_type": "code",
   "execution_count": 19,
   "id": "4a52d88f",
   "metadata": {},
   "outputs": [],
   "source": [
    "#confusion matrix\n",
    "from sklearn.metrics import confusion_matrix\n",
    "cm= confusion_matrix(y_true, y_testing_prediction)\n",
    "\n"
   ]
  },
  {
   "cell_type": "code",
   "execution_count": 20,
   "id": "f56bd3c1",
   "metadata": {},
   "outputs": [
    {
     "data": {
      "image/png": "[encoded data removed]",
      "text/plain": [
       "<Figure size 360x360 with 2 Axes>"
      ]
     },
     "metadata": {
      "needs_background": "light"
     },
     "output_type": "display_data"
    }
   ],
   "source": [
    "f, ax =plt.subplots(figsize = (5,5))\n",
    "sns.heatmap(cm,annot = True, linewidths= 0.5, linecolor=\"red\", fmt=\".0f\", ax=ax)\n",
    "plt.xlabel(\"y_pred\")\n",
    "plt.ylabel(\"y_true\")\n",
    "plt.show()"
   ]
  },
  {
   "cell_type": "code",
   "execution_count": 21,
   "id": "c243db41",
   "metadata": {},
   "outputs": [
    {
     "name": "stdout",
     "output_type": "stream",
     "text": [
      "              precision    recall  f1-score   support\n",
      "\n",
      "         0.0       0.99      1.00      0.99      5370\n",
      "         1.0       0.99      0.90      0.94       630\n",
      "\n",
      "    accuracy                           0.99      6000\n",
      "   macro avg       0.99      0.95      0.97      6000\n",
      "weighted avg       0.99      0.99      0.99      6000\n",
      "\n"
     ]
    }
   ],
   "source": [
    "# Print out classification report and confusion matrix\n",
    "from sklearn.metrics import classification_report, confusion_matrix\n",
    "print(classification_report(y_test, y_testing_prediction))"
   ]
  },
  {
   "cell_type": "code",
   "execution_count": 22,
   "id": "ca9b5c24",
   "metadata": {},
   "outputs": [
    {
     "data": {
      "text/plain": [
       "0.9896666666666667"
      ]
     },
     "execution_count": 22,
     "metadata": {},
     "output_type": "execute_result"
    }
   ],
   "source": [
    "neigh = KNeighborsClassifier(n_neighbors= 3 )\n",
    "neigh.fit(X_train, y_train)\n",
    "y_testing_prediction = neigh.predict(X_test)\n",
    "from sklearn.metrics import accuracy_score\n",
    "accuracy_score(y_test, y_testing_prediction)\n"
   ]
  },
  {
   "cell_type": "code",
   "execution_count": 23,
   "id": "64e98e1e",
   "metadata": {},
   "outputs": [
    {
     "data": {
      "text/plain": [
       "0.9856666666666667"
      ]
     },
     "execution_count": 23,
     "metadata": {},
     "output_type": "execute_result"
    }
   ],
   "source": [
    "neigh = KNeighborsClassifier(n_neighbors= 10)\n",
    "neigh.fit(X_train, y_train)\n",
    "y_testing_prediction = neigh.predict(X_test)\n",
    "from sklearn.metrics import accuracy_score\n",
    "accuracy_score(y_test, y_testing_prediction)"
   ]
  },
  {
   "cell_type": "code",
   "execution_count": 24,
   "id": "50603bdb",
   "metadata": {},
   "outputs": [
    {
     "data": {
      "text/plain": [
       "0.9768333333333333"
      ]
     },
     "execution_count": 24,
     "metadata": {},
     "output_type": "execute_result"
    }
   ],
   "source": [
    "neigh = KNeighborsClassifier(n_neighbors= 20)\n",
    "neigh.fit(X_train, y_train)\n",
    "y_testing_prediction = neigh.predict(X_test)\n",
    "from sklearn.metrics import accuracy_score\n",
    "accuracy_score(y_test, y_testing_prediction)"
   ]
  },
  {
   "cell_type": "code",
   "execution_count": 25,
   "id": "64772fe8",
   "metadata": {},
   "outputs": [
    {
     "data": {
      "text/plain": [
       "0.9625"
      ]
     },
     "execution_count": 25,
     "metadata": {},
     "output_type": "execute_result"
    }
   ],
   "source": [
    "neigh = KNeighborsClassifier(n_neighbors= 40)\n",
    "neigh.fit(X_train, y_train)\n",
    "y_testing_prediction = neigh.predict(X_test)\n",
    "from sklearn.metrics import accuracy_score\n",
    "accuracy_score(y_test, y_testing_prediction)"
   ]
  },
  {
   "cell_type": "code",
   "execution_count": 26,
   "id": "bb1cb83c",
   "metadata": {},
   "outputs": [],
   "source": [
    "# do another round of modeling with all of the datasets together, just to see the accuracy's improvement\n",
    "#visualization would be nice as well\n",
    "#Every organization runs a project. Problem there are always risks with these projects\n",
    "# These issues with project management, can cost project managers  $62 million due to human error\n",
    "# I am building a machine learning algorithm, that will detect the risks in projects\n",
    "\n",
    "#on the other side of the poster:\n",
    "# We created project examples in JIRA\n",
    "# We can tell a story about how we cleaned up the data in python\n",
    "# final output can be a spread sheet to mark which project tasks are at risk\n",
    "#open up excel\n",
    "# the project sample, has to show which tasks were at risk\n",
    "original_df.to_csv('./Storing_csv_files_2/{}.csv')"
   ]
  },
  {
   "cell_type": "code",
   "execution_count": 27,
   "id": "d923ea38",
   "metadata": {},
   "outputs": [
    {
     "name": "stdout",
     "output_type": "stream",
     "text": [
      "K =  2 98.8\n",
      "K =  3 98.88333333333334\n",
      "K =  4 98.96666666666667\n",
      "K =  5 98.8\n",
      "K =  6 99.01666666666667\n",
      "K =  7 98.85000000000001\n",
      "K =  8 98.91666666666666\n",
      "K =  9 98.68333333333334\n",
      "K =  10 98.91666666666666\n",
      "K =  11 98.56666666666666\n",
      "K =  12 98.7\n",
      "K =  13 98.46666666666667\n",
      "K =  14 98.58333333333333\n",
      "K =  15 98.38333333333334\n",
      "K =  16 98.53333333333333\n",
      "K =  17 98.08333333333333\n",
      "K =  18 98.2\n",
      "K =  19 97.96666666666667\n",
      "K =  20 98.01666666666667\n",
      "K =  21 97.68333333333334\n",
      "K =  22 97.75\n",
      "K =  23 97.46666666666667\n",
      "K =  24 97.51666666666667\n",
      "K =  25 97.33333333333334\n",
      "K =  26 97.38333333333333\n",
      "K =  27 97.23333333333333\n",
      "K =  28 97.25\n",
      "K =  29 97.11666666666666\n",
      "K =  30 97.18333333333334\n",
      "K =  31 96.96666666666667\n",
      "K =  32 97.03333333333333\n",
      "K =  33 96.86666666666667\n",
      "K =  34 96.93333333333334\n",
      "K =  35 96.8\n",
      "K =  36 96.8\n",
      "K =  37 96.6\n",
      "K =  38 96.68333333333334\n",
      "K =  39 96.43333333333334\n",
      "K =  40 96.51666666666667\n",
      "K =  41 96.25\n",
      "K =  42 96.35000000000001\n",
      "K =  43 96.16666666666667\n",
      "K =  44 96.3\n",
      "K =  45 96.11666666666666\n",
      "K =  46 96.18333333333334\n",
      "K =  47 96.01666666666667\n",
      "K =  48 96.03333333333333\n",
      "K =  49 95.73333333333333\n",
      "K =  50 95.81666666666668\n",
      "K =  51 95.65\n",
      "K =  52 95.68333333333334\n",
      "K =  53 95.56666666666666\n",
      "K =  54 95.63333333333334\n",
      "K =  55 95.46666666666667\n",
      "K =  56 95.58333333333333\n",
      "K =  57 95.43333333333334\n",
      "K =  58 95.48333333333333\n",
      "K =  59 95.33333333333334\n",
      "K =  60 95.41666666666667\n",
      "K =  61 95.23333333333333\n",
      "K =  62 95.31666666666668\n",
      "K =  63 95.18333333333334\n",
      "K =  64 95.21666666666667\n",
      "K =  65 95.05\n",
      "K =  66 95.11666666666667\n",
      "K =  67 94.98333333333333\n",
      "K =  68 95.03333333333333\n",
      "K =  69 94.85\n",
      "K =  70 94.89999999999999\n",
      "K =  71 94.68333333333334\n",
      "K =  72 94.73333333333333\n",
      "K =  73 94.68333333333334\n",
      "K =  74 94.69999999999999\n",
      "K =  75 94.6\n",
      "K =  76 94.6\n",
      "K =  77 94.56666666666666\n",
      "K =  78 94.55\n",
      "K =  79 94.45\n",
      "K =  80 94.45\n",
      "K =  81 94.33333333333334\n",
      "K =  82 94.35\n",
      "K =  83 94.21666666666667\n",
      "K =  84 94.25\n",
      "K =  85 94.18333333333334\n",
      "K =  86 94.18333333333334\n",
      "K =  87 94.11666666666667\n",
      "K =  88 94.1\n",
      "K =  89 94.03333333333333\n",
      "K =  90 94.06666666666666\n",
      "K =  91 94.0\n",
      "K =  92 94.01666666666667\n",
      "K =  93 93.85\n",
      "K =  94 93.85\n",
      "K =  95 93.81666666666668\n",
      "K =  96 93.86666666666666\n",
      "K =  97 93.7\n",
      "K =  98 93.73333333333333\n",
      "K =  99 93.7\n",
      "K =  100 93.73333333333333\n",
      "95.08100000000006\n"
     ]
    }
   ],
   "source": [
    "sum = 0\n",
    "\n",
    "for x in range (1, 100):\n",
    "    neigh = KNeighborsClassifier(n_neighbors= x)\n",
    "    neigh.fit(X_train, y_train)\n",
    "    y_testing_prediction = neigh.predict(X_test)\n",
    "    x = x + 1\n",
    "    from sklearn.metrics import accuracy_score\n",
    "    sum = sum + accuracy_score(y_test, y_testing_prediction)*100\n",
    "    print(\"K = \",x,accuracy_score(y_test, y_testing_prediction)*100)\n",
    "    avg = sum/x\n",
    "print(avg)\n",
    "\n"
   ]
  },
  {
   "cell_type": "code",
   "execution_count": null,
   "id": "500283d6",
   "metadata": {},
   "outputs": [],
   "source": []
  }
 ],
 "metadata": {
  "kernelspec": {
   "display_name": "Python 3 (ipykernel)",
   "language": "python",
   "name": "python3"
  },
  "language_info": {
   "codemirror_mode": {
    "name": "ipython",
    "version": 3
   },
   "file_extension": ".py",
   "mimetype": "text/x-python",
   "name": "python",
   "nbconvert_exporter": "python",
   "pygments_lexer": "ipython3",
   "version": "3.9.7"
  }
 },
 "nbformat": 4,
 "nbformat_minor": 5
}
