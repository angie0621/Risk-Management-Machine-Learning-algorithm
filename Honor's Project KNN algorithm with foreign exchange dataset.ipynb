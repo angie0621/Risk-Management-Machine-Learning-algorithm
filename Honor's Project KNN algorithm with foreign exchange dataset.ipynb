{
 "cells": [
  {
   "cell_type": "code",
   "execution_count": 1,
   "id": "aad38aba",
   "metadata": {},
   "outputs": [],
   "source": [
    "import numpy as np\n",
    "import pandas as pd\n",
    "import os\n",
    "import matplotlib.pyplot as plt\n",
    "import seaborn as sns\n",
    "from sklearn.preprocessing import OrdinalEncoder"
   ]
  },
  {
   "cell_type": "code",
   "execution_count": 5,
   "id": "3b1dfbd5",
   "metadata": {},
   "outputs": [],
   "source": [
    "!python honors.py"
   ]
  },
  {
   "cell_type": "code",
   "execution_count": 6,
   "id": "07fda137",
   "metadata": {},
   "outputs": [],
   "source": [
    "import glob\n",
    "all_files = glob.glob(\"Storing_csv_files_3\" + \"/*.csv\")\n",
    "frame = []\n",
    "for filename in all_files:\n",
    "    df = pd.read_csv(filename)\n",
    "    frame.append(df) \n",
    "original_df = pd.concat(frame)\n"
   ]
  },
  {
   "cell_type": "code",
   "execution_count": 7,
   "id": "d480ea24",
   "metadata": {},
   "outputs": [
    {
     "data": {
      "text/html": [
       "<div>\n",
       "<style scoped>\n",
       "    .dataframe tbody tr th:only-of-type {\n",
       "        vertical-align: middle;\n",
       "    }\n",
       "\n",
       "    .dataframe tbody tr th {\n",
       "        vertical-align: top;\n",
       "    }\n",
       "\n",
       "    .dataframe thead th {\n",
       "        text-align: right;\n",
       "    }\n",
       "</style>\n",
       "<table border=\"1\" class=\"dataframe\">\n",
       "  <thead>\n",
       "    <tr style=\"text-align: right;\">\n",
       "      <th></th>\n",
       "      <th>Unnamed: 0</th>\n",
       "      <th>Summary</th>\n",
       "      <th>Issue id</th>\n",
       "      <th>Status</th>\n",
       "      <th>Assignee</th>\n",
       "      <th>Updated</th>\n",
       "      <th>Last Viewed</th>\n",
       "      <th>Original estimate</th>\n",
       "      <th>Time Spent</th>\n",
       "      <th>Custom field (Start date)</th>\n",
       "      <th>...</th>\n",
       "      <th>Random_Assignee</th>\n",
       "      <th>percent_random</th>\n",
       "      <th>percent_sign</th>\n",
       "      <th>percentage</th>\n",
       "      <th>Due date</th>\n",
       "      <th>Label</th>\n",
       "      <th>percent_random_time_spent</th>\n",
       "      <th>percent_sign_time_spent</th>\n",
       "      <th>percentage_time_spent</th>\n",
       "      <th>Random_time_spent</th>\n",
       "    </tr>\n",
       "  </thead>\n",
       "  <tbody>\n",
       "    <tr>\n",
       "      <th>0</th>\n",
       "      <td>0</td>\n",
       "      <td>Problem statement</td>\n",
       "      <td>10018</td>\n",
       "      <td>Done</td>\n",
       "      <td>Alexey</td>\n",
       "      <td>3/7/2022 13:12</td>\n",
       "      <td>3/7/2022 13:14</td>\n",
       "      <td>12</td>\n",
       "      <td>12.826985</td>\n",
       "      <td>2021-11-01</td>\n",
       "      <td>...</td>\n",
       "      <td>Angie</td>\n",
       "      <td>1.603110</td>\n",
       "      <td>2</td>\n",
       "      <td>3.206221</td>\n",
       "      <td>2022-03-22</td>\n",
       "      <td>0</td>\n",
       "      <td>0.568915</td>\n",
       "      <td>2</td>\n",
       "      <td>1.137831</td>\n",
       "      <td>12.826985</td>\n",
       "    </tr>\n",
       "    <tr>\n",
       "      <th>1</th>\n",
       "      <td>1</td>\n",
       "      <td>Project Proposal</td>\n",
       "      <td>10019</td>\n",
       "      <td>Done</td>\n",
       "      <td>Angie</td>\n",
       "      <td>NaN</td>\n",
       "      <td>NaN</td>\n",
       "      <td>24</td>\n",
       "      <td>19.502708</td>\n",
       "      <td>2021-11-28</td>\n",
       "      <td>...</td>\n",
       "      <td>Violet</td>\n",
       "      <td>0.043981</td>\n",
       "      <td>-2</td>\n",
       "      <td>-0.087963</td>\n",
       "      <td>2021-12-31</td>\n",
       "      <td>0</td>\n",
       "      <td>1.937838</td>\n",
       "      <td>2</td>\n",
       "      <td>3.875677</td>\n",
       "      <td>19.502708</td>\n",
       "    </tr>\n",
       "    <tr>\n",
       "      <th>2</th>\n",
       "      <td>2</td>\n",
       "      <td>Assign project tasks to the team</td>\n",
       "      <td>10020</td>\n",
       "      <td>Done</td>\n",
       "      <td>Manoj</td>\n",
       "      <td>3/7/2022 13:13</td>\n",
       "      <td>3/7/2022 13:14</td>\n",
       "      <td>2</td>\n",
       "      <td>0.669527</td>\n",
       "      <td>2021-11-30</td>\n",
       "      <td>...</td>\n",
       "      <td>Alexey</td>\n",
       "      <td>0.856437</td>\n",
       "      <td>2</td>\n",
       "      <td>1.712874</td>\n",
       "      <td>2022-03-18</td>\n",
       "      <td>1</td>\n",
       "      <td>0.165237</td>\n",
       "      <td>-2</td>\n",
       "      <td>-0.330473</td>\n",
       "      <td>0.669527</td>\n",
       "    </tr>\n",
       "    <tr>\n",
       "      <th>3</th>\n",
       "      <td>3</td>\n",
       "      <td>Discuss budgeting</td>\n",
       "      <td>10021</td>\n",
       "      <td>Done</td>\n",
       "      <td>Violet</td>\n",
       "      <td>3/7/2022 13:04</td>\n",
       "      <td>3/7/2022 13:14</td>\n",
       "      <td>4</td>\n",
       "      <td>0.000000</td>\n",
       "      <td>2021-12-01</td>\n",
       "      <td>...</td>\n",
       "      <td>Bai Niang</td>\n",
       "      <td>1.492974</td>\n",
       "      <td>2</td>\n",
       "      <td>2.985948</td>\n",
       "      <td>2022-04-25</td>\n",
       "      <td>0</td>\n",
       "      <td>0.559747</td>\n",
       "      <td>2</td>\n",
       "      <td>1.119494</td>\n",
       "      <td>0.000000</td>\n",
       "    </tr>\n",
       "    <tr>\n",
       "      <th>4</th>\n",
       "      <td>4</td>\n",
       "      <td>Software Requirements Document</td>\n",
       "      <td>10022</td>\n",
       "      <td>Done</td>\n",
       "      <td>Latifah</td>\n",
       "      <td>3/7/2022 13:04</td>\n",
       "      <td>3/7/2022 13:14</td>\n",
       "      <td>48</td>\n",
       "      <td>103.471076</td>\n",
       "      <td>2021-12-02</td>\n",
       "      <td>...</td>\n",
       "      <td>Klaus</td>\n",
       "      <td>1.006903</td>\n",
       "      <td>2</td>\n",
       "      <td>2.013806</td>\n",
       "      <td>2022-03-29</td>\n",
       "      <td>0</td>\n",
       "      <td>1.655647</td>\n",
       "      <td>2</td>\n",
       "      <td>3.311295</td>\n",
       "      <td>103.471076</td>\n",
       "    </tr>\n",
       "    <tr>\n",
       "      <th>...</th>\n",
       "      <td>...</td>\n",
       "      <td>...</td>\n",
       "      <td>...</td>\n",
       "      <td>...</td>\n",
       "      <td>...</td>\n",
       "      <td>...</td>\n",
       "      <td>...</td>\n",
       "      <td>...</td>\n",
       "      <td>...</td>\n",
       "      <td>...</td>\n",
       "      <td>...</td>\n",
       "      <td>...</td>\n",
       "      <td>...</td>\n",
       "      <td>...</td>\n",
       "      <td>...</td>\n",
       "      <td>...</td>\n",
       "      <td>...</td>\n",
       "      <td>...</td>\n",
       "      <td>...</td>\n",
       "      <td>...</td>\n",
       "      <td>...</td>\n",
       "    </tr>\n",
       "    <tr>\n",
       "      <th>15</th>\n",
       "      <td>15</td>\n",
       "      <td>View Foreign Exchange account</td>\n",
       "      <td>10033</td>\n",
       "      <td>Done</td>\n",
       "      <td>Mulan</td>\n",
       "      <td>3/7/2022 13:07</td>\n",
       "      <td>3/7/2022 13:14</td>\n",
       "      <td>36</td>\n",
       "      <td>-45.986731</td>\n",
       "      <td>2022-03-13</td>\n",
       "      <td>...</td>\n",
       "      <td>Violet</td>\n",
       "      <td>1.970333</td>\n",
       "      <td>2</td>\n",
       "      <td>3.940666</td>\n",
       "      <td>2022-06-28</td>\n",
       "      <td>0</td>\n",
       "      <td>1.416114</td>\n",
       "      <td>2</td>\n",
       "      <td>2.832228</td>\n",
       "      <td>-45.986731</td>\n",
       "    </tr>\n",
       "    <tr>\n",
       "      <th>16</th>\n",
       "      <td>16</td>\n",
       "      <td>Exchange currency tab</td>\n",
       "      <td>10034</td>\n",
       "      <td>Done</td>\n",
       "      <td>Mushu</td>\n",
       "      <td>3/7/2022 12:58</td>\n",
       "      <td>3/7/2022 13:14</td>\n",
       "      <td>48</td>\n",
       "      <td>30.319552</td>\n",
       "      <td>2022-04-04</td>\n",
       "      <td>...</td>\n",
       "      <td>Alexandra</td>\n",
       "      <td>1.698600</td>\n",
       "      <td>2</td>\n",
       "      <td>3.397201</td>\n",
       "      <td>2022-05-18</td>\n",
       "      <td>0</td>\n",
       "      <td>1.015978</td>\n",
       "      <td>2</td>\n",
       "      <td>2.031955</td>\n",
       "      <td>30.319552</td>\n",
       "    </tr>\n",
       "    <tr>\n",
       "      <th>17</th>\n",
       "      <td>17</td>\n",
       "      <td>User testing</td>\n",
       "      <td>10035</td>\n",
       "      <td>Done</td>\n",
       "      <td>Shang</td>\n",
       "      <td>3/7/2022 12:56</td>\n",
       "      <td>3/7/2022 13:14</td>\n",
       "      <td>8</td>\n",
       "      <td>-2.237213</td>\n",
       "      <td>2022-04-15</td>\n",
       "      <td>...</td>\n",
       "      <td>Max</td>\n",
       "      <td>1.802324</td>\n",
       "      <td>2</td>\n",
       "      <td>3.604647</td>\n",
       "      <td>2022-07-09</td>\n",
       "      <td>0</td>\n",
       "      <td>0.618607</td>\n",
       "      <td>2</td>\n",
       "      <td>1.237213</td>\n",
       "      <td>-2.237213</td>\n",
       "    </tr>\n",
       "    <tr>\n",
       "      <th>18</th>\n",
       "      <td>18</td>\n",
       "      <td>Vendors testing the software for any bugs</td>\n",
       "      <td>10036</td>\n",
       "      <td>Done</td>\n",
       "      <td>Jisoo</td>\n",
       "      <td>3/7/2022 12:56</td>\n",
       "      <td>3/7/2022 13:14</td>\n",
       "      <td>24</td>\n",
       "      <td>43.850126</td>\n",
       "      <td>2022-04-26</td>\n",
       "      <td>...</td>\n",
       "      <td>Lyte</td>\n",
       "      <td>0.590071</td>\n",
       "      <td>2</td>\n",
       "      <td>1.180141</td>\n",
       "      <td>2022-06-23</td>\n",
       "      <td>0</td>\n",
       "      <td>1.692506</td>\n",
       "      <td>2</td>\n",
       "      <td>3.385013</td>\n",
       "      <td>43.850126</td>\n",
       "    </tr>\n",
       "    <tr>\n",
       "      <th>19</th>\n",
       "      <td>19</td>\n",
       "      <td>Releasing 2.0</td>\n",
       "      <td>10037</td>\n",
       "      <td>Done</td>\n",
       "      <td>Frankie</td>\n",
       "      <td>3/7/2022 13:06</td>\n",
       "      <td>3/7/2022 13:14</td>\n",
       "      <td>9</td>\n",
       "      <td>9.546230</td>\n",
       "      <td>2022-05-24</td>\n",
       "      <td>...</td>\n",
       "      <td>Shang</td>\n",
       "      <td>1.208761</td>\n",
       "      <td>2</td>\n",
       "      <td>2.417522</td>\n",
       "      <td>2022-08-30</td>\n",
       "      <td>0</td>\n",
       "      <td>0.454623</td>\n",
       "      <td>2</td>\n",
       "      <td>0.909246</td>\n",
       "      <td>9.546230</td>\n",
       "    </tr>\n",
       "  </tbody>\n",
       "</table>\n",
       "<p>30000 rows × 24 columns</p>\n",
       "</div>"
      ],
      "text/plain": [
       "    Unnamed: 0                                    Summary  Issue id Status  \\\n",
       "0            0                          Problem statement     10018   Done   \n",
       "1            1                           Project Proposal     10019   Done   \n",
       "2            2           Assign project tasks to the team     10020   Done   \n",
       "3            3                          Discuss budgeting     10021   Done   \n",
       "4            4             Software Requirements Document     10022   Done   \n",
       "..         ...                                        ...       ...    ...   \n",
       "15          15              View Foreign Exchange account     10033   Done   \n",
       "16          16                      Exchange currency tab     10034   Done   \n",
       "17          17                               User testing     10035   Done   \n",
       "18          18  Vendors testing the software for any bugs     10036   Done   \n",
       "19          19                              Releasing 2.0     10037   Done   \n",
       "\n",
       "   Assignee         Updated     Last Viewed  Original estimate  Time Spent  \\\n",
       "0    Alexey  3/7/2022 13:12  3/7/2022 13:14                 12   12.826985   \n",
       "1     Angie             NaN             NaN                 24   19.502708   \n",
       "2     Manoj  3/7/2022 13:13  3/7/2022 13:14                  2    0.669527   \n",
       "3    Violet  3/7/2022 13:04  3/7/2022 13:14                  4    0.000000   \n",
       "4   Latifah  3/7/2022 13:04  3/7/2022 13:14                 48  103.471076   \n",
       "..      ...             ...             ...                ...         ...   \n",
       "15    Mulan  3/7/2022 13:07  3/7/2022 13:14                 36  -45.986731   \n",
       "16    Mushu  3/7/2022 12:58  3/7/2022 13:14                 48   30.319552   \n",
       "17    Shang  3/7/2022 12:56  3/7/2022 13:14                  8   -2.237213   \n",
       "18    Jisoo  3/7/2022 12:56  3/7/2022 13:14                 24   43.850126   \n",
       "19  Frankie  3/7/2022 13:06  3/7/2022 13:14                  9    9.546230   \n",
       "\n",
       "   Custom field (Start date)  ...  Random_Assignee percent_random  \\\n",
       "0                 2021-11-01  ...            Angie       1.603110   \n",
       "1                 2021-11-28  ...           Violet       0.043981   \n",
       "2                 2021-11-30  ...           Alexey       0.856437   \n",
       "3                 2021-12-01  ...        Bai Niang       1.492974   \n",
       "4                 2021-12-02  ...            Klaus       1.006903   \n",
       "..                       ...  ...              ...            ...   \n",
       "15                2022-03-13  ...           Violet       1.970333   \n",
       "16                2022-04-04  ...        Alexandra       1.698600   \n",
       "17                2022-04-15  ...              Max       1.802324   \n",
       "18                2022-04-26  ...             Lyte       0.590071   \n",
       "19                2022-05-24  ...            Shang       1.208761   \n",
       "\n",
       "    percent_sign  percentage    Due date  Label  percent_random_time_spent  \\\n",
       "0              2    3.206221  2022-03-22      0                   0.568915   \n",
       "1             -2   -0.087963  2021-12-31      0                   1.937838   \n",
       "2              2    1.712874  2022-03-18      1                   0.165237   \n",
       "3              2    2.985948  2022-04-25      0                   0.559747   \n",
       "4              2    2.013806  2022-03-29      0                   1.655647   \n",
       "..           ...         ...         ...    ...                        ...   \n",
       "15             2    3.940666  2022-06-28      0                   1.416114   \n",
       "16             2    3.397201  2022-05-18      0                   1.015978   \n",
       "17             2    3.604647  2022-07-09      0                   0.618607   \n",
       "18             2    1.180141  2022-06-23      0                   1.692506   \n",
       "19             2    2.417522  2022-08-30      0                   0.454623   \n",
       "\n",
       "    percent_sign_time_spent percentage_time_spent  Random_time_spent  \n",
       "0                         2              1.137831          12.826985  \n",
       "1                         2              3.875677          19.502708  \n",
       "2                        -2             -0.330473           0.669527  \n",
       "3                         2              1.119494           0.000000  \n",
       "4                         2              3.311295         103.471076  \n",
       "..                      ...                   ...                ...  \n",
       "15                        2              2.832228         -45.986731  \n",
       "16                        2              2.031955          30.319552  \n",
       "17                        2              1.237213          -2.237213  \n",
       "18                        2              3.385013          43.850126  \n",
       "19                        2              0.909246           9.546230  \n",
       "\n",
       "[30000 rows x 24 columns]"
      ]
     },
     "execution_count": 7,
     "metadata": {},
     "output_type": "execute_result"
    }
   ],
   "source": [
    "original_df"
   ]
  },
  {
   "cell_type": "code",
   "execution_count": 8,
   "id": "47d3a709",
   "metadata": {},
   "outputs": [
    {
     "name": "stdout",
     "output_type": "stream",
     "text": [
      "   Status Random_Assignee\n",
      "0    Done           Angie\n",
      "1    Done          Violet\n",
      "2    Done          Alexey\n",
      "3    Done       Bai Niang\n",
      "4    Done           Klaus\n",
      "..    ...             ...\n",
      "15   Done          Violet\n",
      "16   Done       Alexandra\n",
      "17   Done             Max\n",
      "18   Done            Lyte\n",
      "19   Done           Shang\n",
      "\n",
      "[30000 rows x 2 columns]\n",
      "[[ 0.  2.]\n",
      " [ 0. 17.]\n",
      " [ 0.  1.]\n",
      " ...\n",
      " [ 0. 13.]\n",
      " [ 0. 11.]\n",
      " [ 0. 16.]]\n"
     ]
    }
   ],
   "source": [
    "original_df['Status'].fillna('Done', inplace = True)\n",
    "transform_df = original_df[['Status','Random_Assignee']]\n",
    "print(transform_df\n",
    "\n",
    "encoder = OrdinalEncoder()\n",
    "encoder.fit(transform_df)\n",
    "final_df = encoder.transform(transform_df)\n",
    "print(final_df)\n",
    "#final_df = pd.DataFrame(final_df, columns = ['Status', 'Label(Binary) Project with all tasks', 'Assignee' ])\n",
    "#final_df = pd.concat([final_df, original_df], axis = 1, ignore_indexing = True)\n",
    "#final_df\n"
   ]
  },
  {
   "cell_type": "code",
   "execution_count": 9,
   "id": "70d60153",
   "metadata": {},
   "outputs": [
    {
     "data": {
      "text/plain": [
       "False"
      ]
     },
     "execution_count": 9,
     "metadata": {},
     "output_type": "execute_result"
    }
   ],
   "source": [
    "original_df['diff_dates'].isnull().any().any()"
   ]
  },
  {
   "cell_type": "code",
   "execution_count": 11,
   "id": "cfc9b0ad",
   "metadata": {},
   "outputs": [],
   "source": [
    "arr = original_df[['diff_dates','percent_random', 'Original estimate', 'diff_time_spent', 'Time Spent','Label']].to_numpy()\n"
   ]
  },
  {
   "cell_type": "code",
   "execution_count": 12,
   "id": "de143819",
   "metadata": {},
   "outputs": [],
   "source": [
    "dataset = np.hstack((final_df,arr))"
   ]
  },
  {
   "cell_type": "code",
   "execution_count": 13,
   "id": "5a99eee1",
   "metadata": {},
   "outputs": [
    {
     "data": {
      "text/plain": [
       "array([[  0.        ,   2.        ,  27.        , ...,  -0.82698452,\n",
       "         12.82698452,   0.        ],\n",
       "       [  0.        ,  17.        ,  17.        , ...,   4.49729229,\n",
       "         19.50270771,   0.        ],\n",
       "       [  0.        ,   1.        ,  29.        , ...,   1.33047328,\n",
       "          0.66952672,   1.        ],\n",
       "       ...,\n",
       "       [  0.        ,  13.        ,  15.        , ...,  10.23721311,\n",
       "         -2.23721311,   0.        ],\n",
       "       [  0.        ,  11.        ,  18.        , ..., -19.85012556,\n",
       "         43.85012556,   0.        ],\n",
       "       [  0.        ,  16.        ,  22.        , ...,  -0.54622988,\n",
       "          9.54622988,   0.        ]])"
      ]
     },
     "execution_count": 13,
     "metadata": {},
     "output_type": "execute_result"
    }
   ],
   "source": [
    "dataset"
   ]
  },
  {
   "cell_type": "code",
   "execution_count": 14,
   "id": "1f03a6bc",
   "metadata": {},
   "outputs": [
    {
     "data": {
      "text/plain": [
       "(21000, 6)"
      ]
     },
     "execution_count": 14,
     "metadata": {},
     "output_type": "execute_result"
    }
   ],
   "source": [
    "from sklearn.model_selection import train_test_split\n",
    "X_train, X_test, y_train, y_test = train_test_split(dataset[:,0:6], dataset[:,-1], test_size=0.3, random_state=32)\n",
    "X_train.shape"
   ]
  },
  {
   "cell_type": "code",
   "execution_count": 15,
   "id": "134dfe2e",
   "metadata": {},
   "outputs": [
    {
     "data": {
      "text/plain": [
       "0.9905555555555555"
      ]
     },
     "execution_count": 15,
     "metadata": {},
     "output_type": "execute_result"
    }
   ],
   "source": [
    "from sklearn.neighbors import KNeighborsClassifier\n",
    "neigh = KNeighborsClassifier(n_neighbors= 2 )\n",
    "neigh.fit(X_train, y_train)\n",
    "y_testing_prediction = neigh.predict(X_test)\n",
    "from sklearn.metrics import accuracy_score\n",
    "accuracy_score(y_test, y_testing_prediction)\n"
   ]
  },
  {
   "cell_type": "code",
   "execution_count": 16,
   "id": "94d152f0",
   "metadata": {},
   "outputs": [
    {
     "data": {
      "text/plain": [
       "0.9912222222222222"
      ]
     },
     "execution_count": 16,
     "metadata": {},
     "output_type": "execute_result"
    }
   ],
   "source": [
    "neigh = KNeighborsClassifier(n_neighbors= 3 )\n",
    "neigh.fit(X_train, y_train)\n",
    "y_testing_prediction = neigh.predict(X_test)\n",
    "from sklearn.metrics import accuracy_score\n",
    "accuracy_score(y_test, y_testing_prediction)\n"
   ]
  },
  {
   "cell_type": "code",
   "execution_count": 17,
   "id": "4b15697b",
   "metadata": {},
   "outputs": [
    {
     "data": {
      "text/plain": [
       "0.9884444444444445"
      ]
     },
     "execution_count": 17,
     "metadata": {},
     "output_type": "execute_result"
    }
   ],
   "source": [
    "# We are trying to rerun the python script because our data has to be randomized. \n",
    "\n",
    "neigh = KNeighborsClassifier(n_neighbors= 10)\n",
    "neigh.fit(X_train, y_train)\n",
    "y_testing_prediction = neigh.predict(X_test)\n",
    "from sklearn.metrics import accuracy_score\n",
    "accuracy_score(y_test, y_testing_prediction)"
   ]
  },
  {
   "cell_type": "code",
   "execution_count": 18,
   "id": "b50096b7",
   "metadata": {},
   "outputs": [
    {
     "data": {
      "text/plain": [
       "0.9833333333333333"
      ]
     },
     "execution_count": 18,
     "metadata": {},
     "output_type": "execute_result"
    }
   ],
   "source": [
    "neigh = KNeighborsClassifier(n_neighbors= 20)\n",
    "neigh.fit(X_train, y_train)\n",
    "y_testing_prediction = neigh.predict(X_test)\n",
    "from sklearn.metrics import accuracy_score\n",
    "accuracy_score(y_test, y_testing_prediction)"
   ]
  },
  {
   "cell_type": "code",
   "execution_count": 19,
   "id": "70069c46",
   "metadata": {},
   "outputs": [
    {
     "data": {
      "text/plain": [
       "0.9444444444444444"
      ]
     },
     "execution_count": 19,
     "metadata": {},
     "output_type": "execute_result"
    }
   ],
   "source": [
    "neigh = KNeighborsClassifier(n_neighbors= 125)\n",
    "neigh.fit(X_train, y_train)\n",
    "y_testing_prediction = neigh.predict(X_test)\n",
    "from sklearn.metrics import accuracy_score\n",
    "accuracy_score(y_test, y_testing_prediction)"
   ]
  },
  {
   "cell_type": "code",
   "execution_count": 20,
   "id": "5135d04e",
   "metadata": {},
   "outputs": [],
   "source": [
    "from sklearn.neighbors import KNeighborsClassifier\n",
    "neigh = KNeighborsClassifier(n_neighbors= 2 )\n",
    "neigh.fit(X_train, y_train)\n",
    "y_testing_prediction = neigh.predict(X_test)\n",
    "from sklearn.metrics import accuracy_score\n",
    "accuracy_score(y_test, y_testing_prediction)\n",
    "y_true=y_test"
   ]
  },
  {
   "cell_type": "code",
   "execution_count": 21,
   "id": "97dbd416",
   "metadata": {},
   "outputs": [],
   "source": [
    "#confusion matrix\n",
    "from sklearn.metrics import confusion_matrix\n",
    "cm= confusion_matrix(y_true, y_testing_prediction)"
   ]
  },
  {
   "cell_type": "code",
   "execution_count": 22,
   "id": "99e9a588",
   "metadata": {},
   "outputs": [
    {
     "data": {
      "image/png": "[encoded data removed]",
      "text/plain": [
       "<Figure size 360x360 with 2 Axes>"
      ]
     },
     "metadata": {
      "needs_background": "light"
     },
     "output_type": "display_data"
    }
   ],
   "source": [
    "f, ax =plt.subplots(figsize = (5,5))\n",
    "sns.heatmap(cm,annot = True, linewidths= 0.5, linecolor=\"red\", fmt=\".0f\", ax=ax)\n",
    "plt.xlabel(\"y_pred\")\n",
    "plt.ylabel(\"y_true\")\n",
    "plt.show()"
   ]
  },
  {
   "cell_type": "code",
   "execution_count": 63,
   "id": "5c53dd6d",
   "metadata": {},
   "outputs": [
    {
     "name": "stdout",
     "output_type": "stream",
     "text": [
      "K =  2 98.87777777777778\n",
      "K =  3 98.97777777777777\n",
      "K =  4 99.01111111111112\n",
      "K =  5 98.97777777777777\n",
      "K =  6 99.08888888888889\n",
      "K =  7 98.86666666666667\n",
      "K =  8 99.08888888888889\n",
      "K =  9 98.87777777777778\n",
      "K =  10 98.9888888888889\n",
      "K =  11 98.84444444444445\n",
      "K =  12 98.96666666666667\n",
      "K =  13 98.78888888888889\n",
      "K =  14 98.9\n",
      "K =  15 98.77777777777777\n",
      "K =  16 98.83333333333333\n",
      "K =  17 98.71111111111112\n",
      "K =  18 98.77777777777777\n",
      "K =  19 98.61111111111111\n",
      "K =  20 98.65555555555555\n",
      "K =  21 98.52222222222223\n",
      "K =  22 98.55555555555556\n",
      "K =  23 98.4\n",
      "K =  24 98.43333333333332\n",
      "K =  25 98.24444444444444\n",
      "K =  26 98.34444444444445\n",
      "K =  27 98.1888888888889\n",
      "K =  28 98.26666666666667\n",
      "K =  29 98.1\n",
      "K =  30 98.15555555555555\n",
      "K =  31 97.96666666666667\n",
      "K =  32 98.0\n",
      "K =  33 97.85555555555555\n",
      "K =  34 97.87777777777778\n",
      "K =  35 97.66666666666667\n",
      "K =  36 97.73333333333333\n",
      "K =  37 97.62222222222222\n",
      "K =  38 97.64444444444445\n",
      "K =  39 97.53333333333333\n",
      "K =  40 97.56666666666666\n",
      "K =  41 97.34444444444445\n",
      "K =  42 97.41111111111111\n",
      "K =  43 97.28888888888889\n",
      "K =  44 97.3\n",
      "K =  45 97.21111111111111\n",
      "K =  46 97.21111111111111\n",
      "K =  47 97.08888888888889\n",
      "K =  48 97.1\n",
      "K =  49 97.06666666666666\n",
      "K =  50 97.1\n",
      "K =  51 96.96666666666667\n",
      "K =  52 96.9888888888889\n",
      "K =  53 96.92222222222222\n",
      "K =  54 96.95555555555555\n",
      "K =  55 96.85555555555555\n",
      "K =  56 96.86666666666667\n",
      "K =  57 96.8\n",
      "K =  58 96.8\n",
      "K =  59 96.77777777777777\n",
      "K =  60 96.78888888888889\n",
      "K =  61 96.7\n",
      "K =  62 96.72222222222221\n",
      "K =  63 96.65555555555555\n",
      "K =  64 96.65555555555555\n",
      "K =  65 96.6\n",
      "K =  66 96.6\n",
      "K =  67 96.54444444444444\n",
      "K =  68 96.56666666666666\n",
      "K =  69 96.52222222222223\n",
      "K =  70 96.57777777777777\n",
      "K =  71 96.38888888888889\n",
      "K =  72 96.44444444444444\n",
      "K =  73 96.34444444444445\n",
      "K =  74 96.35555555555555\n",
      "K =  75 96.21111111111111\n",
      "K =  76 96.23333333333333\n",
      "K =  77 96.2\n",
      "K =  78 96.25555555555556\n",
      "K =  79 96.21111111111111\n",
      "K =  80 96.25555555555556\n",
      "K =  81 96.21111111111111\n",
      "K =  82 96.24444444444444\n",
      "K =  83 96.14444444444445\n",
      "K =  84 96.2\n",
      "K =  85 96.14444444444445\n",
      "K =  86 96.16666666666667\n",
      "K =  87 96.02222222222223\n",
      "K =  88 96.03333333333333\n",
      "K =  89 96.0\n",
      "K =  90 96.01111111111112\n",
      "K =  91 95.95555555555556\n",
      "K =  92 95.9888888888889\n",
      "K =  93 95.91111111111111\n",
      "K =  94 95.93333333333334\n",
      "K =  95 95.83333333333334\n",
      "K =  96 95.85555555555555\n",
      "K =  97 95.84444444444445\n",
      "K =  98 95.86666666666666\n",
      "K =  99 95.86666666666666\n",
      "K =  100 95.86666666666666\n",
      "96.29288888888887\n",
      "              precision    recall  f1-score   support\n",
      "\n",
      "         0.0       0.96      1.00      0.98      8133\n",
      "         1.0       1.00      0.57      0.73       867\n",
      "\n",
      "    accuracy                           0.96      9000\n",
      "   macro avg       0.98      0.79      0.85      9000\n",
      "weighted avg       0.96      0.96      0.95      9000\n",
      "\n"
     ]
    }
   ],
   "source": [
    "sum = 0\n",
    "\n",
    "for x in range (1, 100):\n",
    "    neigh = KNeighborsClassifier(n_neighbors= x)\n",
    "    neigh.fit(X_train, y_train)\n",
    "    y_testing_prediction = neigh.predict(X_test)\n",
    "    x = x + 1\n",
    "    from sklearn.metrics import accuracy_score\n",
    "    sum = sum + accuracy_score(y_test, y_testing_prediction)*100\n",
    "    print(\"K = \",x,accuracy_score(y_test, y_testing_prediction)*100)\n",
    "    avg = sum/x\n",
    "print(avg)\n",
    "# Print out classification report and confusion matrix\n",
    "from sklearn.metrics import classification_report, confusion_matrix\n",
    "print(classification_report(y_test, y_testing_prediction))\n"
   ]
  },
  {
   "cell_type": "code",
   "execution_count": 24,
   "id": "982c708e",
   "metadata": {},
   "outputs": [
    {
     "data": {
      "text/plain": [
       "(24000, 6)"
      ]
     },
     "execution_count": 24,
     "metadata": {},
     "output_type": "execute_result"
    }
   ],
   "source": [
    "from sklearn.model_selection import train_test_split\n",
    "X_train, X_test, y_train, y_test = train_test_split(dataset[:,0:6], dataset[:,-1], test_size=0.2, random_state=32)\n",
    "X_train.shape"
   ]
  },
  {
   "cell_type": "code",
   "execution_count": 25,
   "id": "94b2fbbe",
   "metadata": {},
   "outputs": [
    {
     "name": "stdout",
     "output_type": "stream",
     "text": [
      "K =  2 98.88333333333334\n",
      "K =  3 98.98333333333333\n",
      "K =  4 99.06666666666666\n",
      "K =  5 98.8\n",
      "K =  6 98.91666666666666\n",
      "K =  7 98.8\n",
      "K =  8 98.95\n",
      "K =  9 98.66666666666667\n",
      "K =  10 98.8\n",
      "K =  11 98.61666666666666\n",
      "K =  12 98.8\n",
      "K =  13 98.56666666666666\n",
      "K =  14 98.65\n",
      "K =  15 98.51666666666667\n",
      "K =  16 98.61666666666666\n",
      "K =  17 98.48333333333333\n",
      "K =  18 98.55000000000001\n",
      "K =  19 98.21666666666667\n",
      "K =  20 98.35000000000001\n",
      "K =  21 98.15\n",
      "K =  22 98.23333333333333\n",
      "K =  23 97.93333333333332\n",
      "K =  24 98.01666666666667\n",
      "K =  25 97.88333333333334\n",
      "K =  26 97.89999999999999\n",
      "K =  27 97.75\n",
      "K =  28 97.8\n",
      "K =  29 97.55\n",
      "K =  30 97.6\n",
      "K =  31 97.45\n",
      "K =  32 97.5\n",
      "K =  33 97.38333333333333\n",
      "K =  34 97.5\n",
      "K =  35 97.28333333333333\n",
      "K =  36 97.33333333333334\n",
      "K =  37 97.18333333333334\n",
      "K =  38 97.25\n",
      "K =  39 97.15\n",
      "K =  40 97.16666666666667\n",
      "K =  41 97.01666666666667\n",
      "K =  42 97.06666666666666\n",
      "K =  43 96.81666666666666\n",
      "K =  44 96.83333333333334\n",
      "K =  45 96.65\n",
      "K =  46 96.71666666666667\n",
      "K =  47 96.56666666666666\n",
      "K =  48 96.58333333333333\n",
      "K =  49 96.5\n",
      "K =  50 96.53333333333333\n",
      "K =  51 96.43333333333334\n",
      "K =  52 96.43333333333334\n",
      "K =  53 96.38333333333333\n",
      "K =  54 96.38333333333333\n",
      "K =  55 96.33333333333334\n",
      "K =  56 96.33333333333334\n",
      "K =  57 96.26666666666667\n",
      "K =  58 96.26666666666667\n",
      "K =  59 96.26666666666667\n",
      "K =  60 96.26666666666667\n",
      "K =  61 96.25\n",
      "K =  62 96.25\n",
      "K =  63 96.13333333333334\n",
      "K =  64 96.13333333333334\n",
      "K =  65 96.13333333333334\n",
      "K =  66 96.13333333333334\n",
      "K =  67 96.1\n",
      "K =  68 96.11666666666666\n",
      "K =  69 96.08333333333333\n",
      "K =  70 96.08333333333333\n",
      "K =  71 96.0\n",
      "K =  72 96.01666666666667\n",
      "K =  73 95.89999999999999\n",
      "K =  74 95.93333333333334\n",
      "K =  75 95.88333333333333\n",
      "K =  76 95.89999999999999\n",
      "K =  77 95.89999999999999\n",
      "K =  78 95.89999999999999\n",
      "K =  79 95.83333333333334\n",
      "K =  80 95.83333333333334\n",
      "K =  81 95.78333333333333\n",
      "K =  82 95.8\n",
      "K =  83 95.73333333333333\n",
      "K =  84 95.76666666666667\n",
      "K =  85 95.7\n",
      "K =  86 95.75\n",
      "K =  87 95.65\n",
      "K =  88 95.68333333333334\n",
      "K =  89 95.6\n",
      "K =  90 95.63333333333334\n",
      "K =  91 95.46666666666667\n",
      "K =  92 95.5\n",
      "K =  93 95.46666666666667\n",
      "K =  94 95.46666666666667\n",
      "K =  95 95.45\n",
      "K =  96 95.5\n",
      "K =  97 95.41666666666667\n",
      "K =  98 95.46666666666667\n",
      "K =  99 95.41666666666667\n",
      "K =  100 95.41666666666667\n",
      "95.90083333333328\n"
     ]
    }
   ],
   "source": [
    "sum = 0\n",
    "\n",
    "for x in range (1, 100):\n",
    "    neigh = KNeighborsClassifier(n_neighbors= x)\n",
    "    neigh.fit(X_train, y_train)\n",
    "    y_testing_prediction = neigh.predict(X_test)\n",
    "    x = x + 1\n",
    "    from sklearn.metrics import accuracy_score\n",
    "    sum = sum + accuracy_score(y_test, y_testing_prediction)*100\n",
    "    print(\"K = \",x,accuracy_score(y_test, y_testing_prediction)*100)\n",
    "    avg = sum/x\n",
    "print(avg)"
   ]
  },
  {
   "cell_type": "code",
   "execution_count": 26,
   "id": "115ac76e",
   "metadata": {},
   "outputs": [
    {
     "data": {
      "text/plain": [
       "(18000, 6)"
      ]
     },
     "execution_count": 26,
     "metadata": {},
     "output_type": "execute_result"
    }
   ],
   "source": [
    "from sklearn.model_selection import train_test_split\n",
    "X_train, X_test, y_train, y_test = train_test_split(dataset[:,0:6], dataset[:,-1], test_size=0.4, random_state=42)\n",
    "X_train.shape"
   ]
  },
  {
   "cell_type": "code",
   "execution_count": 27,
   "id": "13a567e0",
   "metadata": {},
   "outputs": [
    {
     "name": "stdout",
     "output_type": "stream",
     "text": [
      "K =  2 98.78333333333333\n",
      "K =  3 98.85000000000001\n",
      "K =  4 98.9\n",
      "K =  5 98.80833333333334\n",
      "K =  6 98.91666666666666\n",
      "K =  7 98.75833333333334\n",
      "K =  8 99.0\n",
      "K =  9 98.80833333333334\n",
      "K =  10 98.98333333333333\n",
      "K =  11 98.825\n",
      "K =  12 98.94166666666668\n",
      "K =  13 98.73333333333333\n",
      "K =  14 98.86666666666667\n",
      "K =  15 98.65833333333333\n",
      "K =  16 98.76666666666667\n",
      "K =  17 98.56666666666666\n",
      "K =  18 98.675\n",
      "K =  19 98.35833333333333\n",
      "K =  20 98.45\n",
      "K =  21 98.25833333333334\n",
      "K =  22 98.275\n",
      "K =  23 98.125\n",
      "K =  24 98.2\n",
      "K =  25 98.03333333333333\n",
      "K =  26 98.1\n",
      "K =  27 97.89999999999999\n",
      "K =  28 97.94166666666668\n",
      "K =  29 97.74166666666667\n",
      "K =  30 97.78333333333333\n",
      "K =  31 97.58333333333333\n",
      "K =  32 97.63333333333334\n",
      "K =  33 97.45833333333334\n",
      "K =  34 97.5\n",
      "K =  35 97.26666666666667\n",
      "K =  36 97.29166666666667\n",
      "K =  37 97.18333333333334\n",
      "K =  38 97.2\n",
      "K =  39 97.125\n",
      "K =  40 97.13333333333334\n",
      "K =  41 97.05\n",
      "K =  42 97.05833333333334\n",
      "K =  43 97.01666666666667\n",
      "K =  44 97.02499999999999\n",
      "K =  45 96.95\n",
      "K =  46 97.0\n",
      "K =  47 96.94166666666668\n",
      "K =  48 96.975\n",
      "K =  49 96.875\n",
      "K =  50 96.88333333333333\n",
      "K =  51 96.79166666666667\n",
      "K =  52 96.80833333333332\n",
      "K =  53 96.76666666666667\n",
      "K =  54 96.79166666666667\n",
      "K =  55 96.71666666666667\n",
      "K =  56 96.72500000000001\n",
      "K =  57 96.65833333333333\n",
      "K =  58 96.675\n",
      "K =  59 96.575\n",
      "K =  60 96.59166666666667\n",
      "K =  61 96.525\n",
      "K =  62 96.56666666666666\n",
      "K =  63 96.45833333333333\n",
      "K =  64 96.49166666666666\n",
      "K =  65 96.36666666666667\n",
      "K =  66 96.43333333333334\n",
      "K =  67 96.28333333333333\n",
      "K =  68 96.3\n",
      "K =  69 96.21666666666667\n",
      "K =  70 96.24166666666667\n",
      "K =  71 96.21666666666667\n",
      "K =  72 96.24166666666667\n",
      "K =  73 96.18333333333334\n",
      "K =  74 96.23333333333333\n",
      "K =  75 96.16666666666667\n",
      "K =  76 96.175\n",
      "K =  77 96.05\n",
      "K =  78 96.09166666666667\n",
      "K =  79 96.025\n",
      "K =  80 96.09166666666667\n",
      "K =  81 95.95833333333333\n",
      "K =  82 95.98333333333333\n",
      "K =  83 95.89999999999999\n",
      "K =  84 95.93333333333334\n",
      "K =  85 95.85833333333333\n",
      "K =  86 95.875\n",
      "K =  87 95.81666666666668\n",
      "K =  88 95.84166666666667\n",
      "K =  89 95.825\n",
      "K =  90 95.83333333333334\n",
      "K =  91 95.73333333333333\n",
      "K =  92 95.75833333333334\n",
      "K =  93 95.66666666666667\n",
      "K =  94 95.69166666666666\n",
      "K =  95 95.6\n",
      "K =  96 95.60833333333333\n",
      "K =  97 95.59166666666667\n",
      "K =  98 95.6\n",
      "K =  99 95.575\n",
      "K =  100 95.60833333333333\n",
      "96.07875000000006\n"
     ]
    }
   ],
   "source": [
    "sum = 0\n",
    "\n",
    "for x in range (1, 100):\n",
    "    neigh = KNeighborsClassifier(n_neighbors= x)\n",
    "    neigh.fit(X_train, y_train)\n",
    "    y_testing_prediction = neigh.predict(X_test)\n",
    "    x = x + 1\n",
    "    from sklearn.metrics import accuracy_score\n",
    "    sum = sum + accuracy_score(y_test, y_testing_prediction)*100\n",
    "    print(\"K = \",x,accuracy_score(y_test, y_testing_prediction)*100)\n",
    "    avg = sum/x\n",
    "print(avg)"
   ]
  },
  {
   "cell_type": "code",
   "execution_count": 57,
   "id": "6e8afabf",
   "metadata": {},
   "outputs": [
    {
     "data": {
      "text/plain": [
       "(21000, 6)"
      ]
     },
     "execution_count": 57,
     "metadata": {},
     "output_type": "execute_result"
    }
   ],
   "source": [
    "from sklearn.model_selection import train_test_split\n",
    "X_train, X_test, y_train, y_test = train_test_split(dataset[:,0:6], dataset[:,-1], test_size=0.3, random_state=42)\n",
    "X_train.shape"
   ]
  },
  {
   "cell_type": "code",
   "execution_count": 58,
   "id": "a4781616",
   "metadata": {},
   "outputs": [],
   "source": [
    "#Import svm model\n",
    "from sklearn import svm\n",
    "\n",
    "#Create a svm Classifier\n",
    "clf = svm.SVC() # Linear Kernel\n",
    "\n",
    "#Train the model using the training sets\n",
    "clf.fit(X_train, y_train)\n",
    "\n",
    "#Predict the response for test dataset\n",
    "y_pred = clf.predict(X_test)"
   ]
  },
  {
   "cell_type": "code",
   "execution_count": 59,
   "id": "4f1c5398",
   "metadata": {},
   "outputs": [
    {
     "data": {
      "text/plain": [
       "array([1., 0., 0., ..., 0., 0., 0.])"
      ]
     },
     "execution_count": 59,
     "metadata": {},
     "output_type": "execute_result"
    }
   ],
   "source": [
    "y_pred"
   ]
  },
  {
   "cell_type": "code",
   "execution_count": 60,
   "id": "2b5e2abc",
   "metadata": {},
   "outputs": [
    {
     "name": "stdout",
     "output_type": "stream",
     "text": [
      "Accuracy: 0.9341111111111111\n"
     ]
    }
   ],
   "source": [
    "#Import scikit-learn metrics module for accuracy calculation\n",
    "from sklearn import metrics\n",
    "\n",
    "# Model Accuracy: how often is the classifier correct?\n",
    "print(\"Accuracy:\",metrics.accuracy_score(y_test, y_pred))"
   ]
  },
  {
   "cell_type": "code",
   "execution_count": 61,
   "id": "b92bd26f",
   "metadata": {},
   "outputs": [
    {
     "name": "stdout",
     "output_type": "stream",
     "text": [
      "Recall: 0.3333333333333333\n"
     ]
    }
   ],
   "source": [
    "# Model Recall: what percentage of positive tuples are labelled as such?\n",
    "print(\"Recall:\",metrics.recall_score(y_test, y_pred))"
   ]
  },
  {
   "cell_type": "code",
   "execution_count": 62,
   "id": "4c39ac3d",
   "metadata": {},
   "outputs": [
    {
     "name": "stdout",
     "output_type": "stream",
     "text": [
      "              precision    recall  f1-score   support\n",
      "\n",
      "         0.0       0.93      1.00      0.96      8133\n",
      "         1.0       0.95      0.33      0.49       867\n",
      "\n",
      "    accuracy                           0.93      9000\n",
      "   macro avg       0.94      0.67      0.73      9000\n",
      "weighted avg       0.94      0.93      0.92      9000\n",
      "\n"
     ]
    }
   ],
   "source": [
    "print(classification_report(y_test, y_pred))"
   ]
  },
  {
   "cell_type": "code",
   "execution_count": null,
   "id": "ebec7a25",
   "metadata": {},
   "outputs": [],
   "source": []
  }
 ],
 "metadata": {
  "kernelspec": {
   "display_name": "Python 3 (ipykernel)",
   "language": "python",
   "name": "python3"
  },
  "language_info": {
   "codemirror_mode": {
    "name": "ipython",
    "version": 3
   },
   "file_extension": ".py",
   "mimetype": "text/x-python",
   "name": "python",
   "nbconvert_exporter": "python",
   "pygments_lexer": "ipython3",
   "version": "3.9.7"
  }
 },
 "nbformat": 4,
 "nbformat_minor": 5
}
